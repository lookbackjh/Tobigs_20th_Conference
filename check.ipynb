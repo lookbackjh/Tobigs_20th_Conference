{
 "cells": [
  {
   "cell_type": "code",
   "execution_count": 23,
   "metadata": {},
   "outputs": [],
   "source": [
    "import pandas as pd\n",
    "\n",
    "a=pd.read_csv('data/train.csv')"
   ]
  },
  {
   "cell_type": "code",
   "execution_count": 34,
   "metadata": {},
   "outputs": [],
   "source": [
    "def large_categories_getter(idx):\n",
    "    a=pd.read_csv('data/train.csv')\n",
    "    largeones=a['대분류'].unique()\n",
    "    smallones=a['소분류'].unique()\n",
    "    # find row where 대분류 is largeones[0]\n",
    "    largerows=a.loc[(a['대분류'] == largeones[idx])] \n",
    "    targets=largerows['소분류'].unique()\n",
    "    targetrows=largerows.loc[(largerows['소분류'] == targets[0])]\n",
    "    # sum every row\n",
    "    targetrows.drop(['ID','대분류','중분류','소분류','브랜드','제품'],axis=1,inplace=True) \n",
    "    targetrows=targetrows.sum(axis=0)\n",
    "    return targetrows"
   ]
  },
  {
   "cell_type": "code",
   "execution_count": 36,
   "metadata": {},
   "outputs": [
    {
     "name": "stderr",
     "output_type": "stream",
     "text": [
      "/tmp/ipykernel_165826/2174325377.py:10: SettingWithCopyWarning: \n",
      "A value is trying to be set on a copy of a slice from a DataFrame\n",
      "\n",
      "See the caveats in the documentation: https://pandas.pydata.org/pandas-docs/stable/user_guide/indexing.html#returning-a-view-versus-a-copy\n",
      "  targetrows.drop(['ID','대분류','중분류','소분류','브랜드','제품'],axis=1,inplace=True)\n"
     ]
    },
    {
     "data": {
      "text/plain": [
       "2022-01-01    1464\n",
       "2022-01-02    1258\n",
       "2022-01-03    1280\n",
       "2022-01-04    1495\n",
       "2022-01-05    1908\n",
       "              ... \n",
       "2023-03-31    1168\n",
       "2023-04-01    1123\n",
       "2023-04-02     945\n",
       "2023-04-03    1329\n",
       "2023-04-04    1754\n",
       "Length: 459, dtype: int64"
      ]
     },
     "execution_count": 36,
     "metadata": {},
     "output_type": "execute_result"
    }
   ],
   "source": [
    "targetdata=large_categories_getter(0)\n",
    "targetdata"
   ]
  },
  {
   "cell_type": "code",
   "execution_count": 32,
   "metadata": {},
   "outputs": [
    {
     "name": "stderr",
     "output_type": "stream",
     "text": [
      "/tmp/ipykernel_165826/3138235063.py:9: SettingWithCopyWarning: \n",
      "A value is trying to be set on a copy of a slice from a DataFrame\n",
      "\n",
      "See the caveats in the documentation: https://pandas.pydata.org/pandas-docs/stable/user_guide/indexing.html#returning-a-view-versus-a-copy\n",
      "  smallrows.drop(['ID','대분류','중분류','소분류','브랜드','제품'],axis=1,inplace=True)\n"
     ]
    }
   ],
   "source": [
    "a=small_categories_getter()"
   ]
  },
  {
   "cell_type": "code",
   "execution_count": 33,
   "metadata": {},
   "outputs": [
    {
     "data": {
      "text/plain": [
       "2022-01-01    1464\n",
       "2022-01-02    1258\n",
       "2022-01-03    1280\n",
       "2022-01-04    1495\n",
       "2022-01-05    1908\n",
       "              ... \n",
       "2023-03-31    1168\n",
       "2023-04-01    1123\n",
       "2023-04-02     945\n",
       "2023-04-03    1329\n",
       "2023-04-04    1754\n",
       "Length: 459, dtype: int64"
      ]
     },
     "execution_count": 33,
     "metadata": {},
     "output_type": "execute_result"
    }
   ],
   "source": [
    "a"
   ]
  }
 ],
 "metadata": {
  "kernelspec": {
   "display_name": ".venv",
   "language": "python",
   "name": "python3"
  },
  "language_info": {
   "codemirror_mode": {
    "name": "ipython",
    "version": 3
   },
   "file_extension": ".py",
   "mimetype": "text/x-python",
   "name": "python",
   "nbconvert_exporter": "python",
   "pygments_lexer": "ipython3",
   "version": "3.10.12"
  }
 },
 "nbformat": 4,
 "nbformat_minor": 2
}
